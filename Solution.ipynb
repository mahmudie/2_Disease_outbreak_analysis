{
 "cells": [
  {
   "cell_type": "code",
   "execution_count": 4,
   "id": "fc819773",
   "metadata": {},
   "outputs": [
    {
     "name": "stdout",
     "output_type": "stream",
     "text": [
      "Requirement already satisfied: geonamescache in c:\\users\\kamya\\anaconda3\\lib\\site-packages (1.3.0)\n"
     ]
    }
   ],
   "source": [
    "#Install pip install geonamescache\n",
    "!pip install geonamescache"
   ]
  },
  {
   "cell_type": "code",
   "execution_count": 5,
   "id": "3c2ddf05",
   "metadata": {},
   "outputs": [],
   "source": [
    "import numpy as np\n",
    "import pandas as pd\n",
    "import re\n",
    "import geonamescache\n",
    "import unidecode"
   ]
  },
  {
   "cell_type": "code",
   "execution_count": 6,
   "id": "2d0740f4",
   "metadata": {},
   "outputs": [
    {
     "data": {
      "text/plain": [
       "['Zika Outbreak Hits Miami',\n",
       " 'Could Zika Reach New York City?',\n",
       " 'First Case of Zika in Miami Beach',\n",
       " 'Mystery Virus Spreads in Recife, Brazil']"
      ]
     },
     "execution_count": 6,
     "metadata": {},
     "output_type": "execute_result"
    }
   ],
   "source": [
    "dataset=[headline.strip() for headline in open('headlines.txt','r')]\n",
    "dataset[:4]"
   ]
  },
  {
   "cell_type": "markdown",
   "id": "98497477",
   "metadata": {},
   "source": [
    "Get country names"
   ]
  },
  {
   "cell_type": "code",
   "execution_count": 7,
   "id": "20ee9944",
   "metadata": {},
   "outputs": [
    {
     "data": {
      "text/plain": [
       "['Andorra',\n",
       " 'United Arab Emirates',\n",
       " 'Afghanistan',\n",
       " 'Antigua and Barbuda',\n",
       " 'Anguilla',\n",
       " 'Albania',\n",
       " 'Armenia',\n",
       " 'Angola',\n",
       " 'Antarctica',\n",
       " 'Argentina']"
      ]
     },
     "execution_count": 7,
     "metadata": {},
     "output_type": "execute_result"
    }
   ],
   "source": [
    "gc =geonamescache.GeonamesCache()\n",
    "countries =[country['name'] for country in gc.get_countries().values()]\n",
    "countries[:10]"
   ]
  },
  {
   "cell_type": "code",
   "execution_count": 8,
   "id": "813dc81b",
   "metadata": {},
   "outputs": [
    {
     "data": {
      "text/plain": [
       "['Andorra la Vella',\n",
       " 'Umm Al Quwain City',\n",
       " 'Ras Al Khaimah City',\n",
       " 'Zayed City',\n",
       " 'Khawr Fakkān',\n",
       " 'Dubai',\n",
       " 'Dibba Al-Fujairah',\n",
       " 'Dibba Al-Hisn',\n",
       " 'Sharjah',\n",
       " 'Ar Ruways']"
      ]
     },
     "execution_count": 8,
     "metadata": {},
     "output_type": "execute_result"
    }
   ],
   "source": [
    "cities =[city['name'] for city in gc.get_cities().values()]\n",
    "cities[:10]"
   ]
  },
  {
   "cell_type": "markdown",
   "id": "97a453dc",
   "metadata": {},
   "source": [
    "### Remove duplicate values if any"
   ]
  },
  {
   "cell_type": "code",
   "execution_count": 9,
   "id": "48af8950",
   "metadata": {},
   "outputs": [
    {
     "data": {
      "text/plain": [
       "252"
      ]
     },
     "execution_count": 9,
     "metadata": {},
     "output_type": "execute_result"
    }
   ],
   "source": [
    "countries=list(set(countries))\n",
    "len(countries)"
   ]
  },
  {
   "cell_type": "code",
   "execution_count": 10,
   "id": "7db6d120",
   "metadata": {},
   "outputs": [
    {
     "data": {
      "text/plain": [
       "25286"
      ]
     },
     "execution_count": 10,
     "metadata": {},
     "output_type": "execute_result"
    }
   ],
   "source": [
    "len(cities)"
   ]
  },
  {
   "cell_type": "code",
   "execution_count": 11,
   "id": "cd35d232",
   "metadata": {},
   "outputs": [
    {
     "data": {
      "text/plain": [
       "23958"
      ]
     },
     "execution_count": 11,
     "metadata": {},
     "output_type": "execute_result"
    }
   ],
   "source": [
    "cities=list(set(cities))\n",
    "len(cities)"
   ]
  },
  {
   "cell_type": "markdown",
   "id": "58d39a5c",
   "metadata": {},
   "source": [
    "## Removing Accent Marks"
   ]
  },
  {
   "cell_type": "code",
   "execution_count": 12,
   "id": "14ebf567",
   "metadata": {},
   "outputs": [
    {
     "data": {
      "text/plain": [
       "'Āsmār'"
      ]
     },
     "execution_count": 12,
     "metadata": {},
     "output_type": "execute_result"
    }
   ],
   "source": [
    "# source: solution\n",
    "country_accent_mapping = {\n",
    "    unidecode.unidecode(country): country for country in countries\n",
    "}\n",
    "\n",
    "city_accent_mapping = {\n",
    "    unidecode.unidecode(city): city for city in cities\n",
    "}\n",
    "city_accent_mapping[\"Asmar\"]"
   ]
  },
  {
   "cell_type": "markdown",
   "id": "e6521d9d",
   "metadata": {},
   "source": [
    "Remove accept marks for headlines as well"
   ]
  },
  {
   "cell_type": "code",
   "execution_count": 13,
   "id": "3654357c",
   "metadata": {},
   "outputs": [
    {
     "data": {
      "text/plain": [
       "['Authorities are Worried about the Spread of Varicella in Clovis',\n",
       " 'More Zika patients reported in Fort Worth',\n",
       " 'Zika symptoms spotted in Boynton Beach',\n",
       " 'Outbreak of Zika in Portoviejo',\n",
       " 'Influenza Exposure in Muscat',\n",
       " 'Rumors about Rabies spreading in Jerusalem have been refuted',\n",
       " 'More Zika patients reported in Indang',\n",
       " 'Suva authorities confirmed the spread of Rotavirus',\n",
       " 'More Zika patients reported in Bella Vista',\n",
       " 'Zika Outbreak in Wichita Falls']"
      ]
     },
     "execution_count": 13,
     "metadata": {},
     "output_type": "execute_result"
    }
   ],
   "source": [
    "df_data = [unidecode.unidecode(headline) for headline in dataset]\n",
    "df_data[-10:]"
   ]
  },
  {
   "cell_type": "markdown",
   "id": "fe11aa92",
   "metadata": {},
   "source": [
    "\n",
    "# Total Cities and Countries"
   ]
  },
  {
   "cell_type": "code",
   "execution_count": 14,
   "id": "4fd065d7",
   "metadata": {},
   "outputs": [
    {
     "name": "stdout",
     "output_type": "stream",
     "text": [
      "Total countries =  252\n",
      "Total cities =  23888\n"
     ]
    }
   ],
   "source": [
    "# Create list of cities and countries\n",
    "unaccented_cities = list(city_accent_mapping.keys())\n",
    "unaccented_countries = set(country_accent_mapping.keys())\n",
    "\n",
    "print(\"Total countries = \",len(unaccented_countries))\n",
    "print('Total cities = ',len(unaccented_cities))"
   ]
  },
  {
   "cell_type": "markdown",
   "id": "3bd9f529",
   "metadata": {},
   "source": [
    "###  Regular Expressions\n",
    "\n",
    "We construct the regular expressions by joining together the list of strings. The words are separated with a `|` for the or symbol in a regular expression. We also use the `\\b` tag to make sure to match on entire words (beginning and end.)"
   ]
  },
  {
   "cell_type": "code",
   "execution_count": 15,
   "id": "95a38d1e",
   "metadata": {},
   "outputs": [
    {
     "data": {
      "text/plain": [
       "\"Pensacola\\\\b|\\\\bP'ot'i\\\\b|\\\\bLobatse\\\\b|\\\\bFaaa\\\\b|\\\\bBamusso\\\\b|\\\\bPort Harcourt\\\\b|\\\\bMakum\\\\b|\\\\bJeremie\\\\b|\\\\bCairns\\\\b|\\\\bQuellon\\\\b|\\\\bAtimonan\\\\b|\\\\bDivnoye\\\\b|\\\\bHuixquilucan\\\\b|\\\\bKumla\\\\b|\\\\bGevrai\\\\b|\\\\bJarash\\\\b|\\\\bSchiebroek\\\\b|\\\\bSopron\\\\b|\\\\bTashkent\\\\b|\\\\bSao Paulo\\\\b|\\\\bPalmar de Varela\\\\b|\\\\bNiagara\\\\b|\\\\bSalamanca\\\\b|\\\\bArden\""
      ]
     },
     "execution_count": 15,
     "metadata": {},
     "output_type": "execute_result"
    }
   ],
   "source": [
    "city_regex = r'\\b|\\b'.join(unaccented_cities)\n",
    "city_regex[1500:1800]"
   ]
  },
  {
   "cell_type": "code",
   "execution_count": 16,
   "id": "493a128a",
   "metadata": {},
   "outputs": [
    {
     "name": "stdout",
     "output_type": "stream",
     "text": [
      "More Zika patients reported in Custodia\n",
      "Custodia \n",
      "\n",
      "Tokyo Encounters Severe Symptoms of Meningitis\n",
      "Tokyo \n",
      "\n",
      "Zika Troubles come to Kampong Cham\n",
      "Kampong Cham \n",
      "\n",
      "19 new Zika Cases in Sengkang\n",
      "Sengkang \n",
      "\n",
      "Mumbai's Health Minister warns of more Zika cases\n",
      "Mumbai \n",
      "\n",
      "Varicella re-emerges in Lagos\n",
      "Lagos \n",
      "\n",
      "Mumbai's Health Minister warns of more Zika cases\n",
      "Mumbai \n",
      "\n",
      "Milwaukee authorities confirmed the spread of Rhinovirus\n",
      "Milwaukee \n",
      "\n",
      "Zika cases concern Charlotte residents\n",
      "Charlotte \n",
      "\n",
      "Four cases of Zika in Hidalgo County\n",
      "Hidalgo \n",
      "\n"
     ]
    }
   ],
   "source": [
    "# Apply regs to city \n",
    "np.random.seed(50)\n",
    "\n",
    "test_headlines = np.random.choice(dataset, 10)\n",
    "\n",
    "for test_headline in test_headlines:\n",
    "    print(test_headline)\n",
    "    match = re.search(city_regex, test_headline)\n",
    "    if match:\n",
    "        print(match.group(0), \"\\n\")"
   ]
  },
  {
   "cell_type": "code",
   "execution_count": 17,
   "id": "9b25b213",
   "metadata": {},
   "outputs": [
    {
     "data": {
      "text/plain": [
       "'Niue\\\\b|\\\\bU.S. Virgin Islands\\\\b|\\\\bMyanmar\\\\b|\\\\bNew Zealand\\\\b|\\\\bGuam\\\\b|\\\\bTuvalu\\\\b|\\\\bMartinique\\\\b|\\\\bBelg'"
      ]
     },
     "execution_count": 17,
     "metadata": {},
     "output_type": "execute_result"
    }
   ],
   "source": [
    "country_regex = r\"\\b|\\b\".join(unaccented_countries)\n",
    "country_regex[:100]"
   ]
  },
  {
   "cell_type": "code",
   "execution_count": 18,
   "id": "4cc270b2",
   "metadata": {},
   "outputs": [
    {
     "name": "stdout",
     "output_type": "stream",
     "text": [
      "Longwood volunteers spreading Zika awareness\n",
      "More Zika cases in Soyapango\n",
      "Spike of Dengue Cases in Stockholm\n",
      "Case of Measles Reported in Vancouver\n",
      "Zika arrives in Belmopan\n",
      "Outbreak of Zika in Colombo\n",
      "Zika symptoms spotted in Arlington\n",
      "Malaria re-emerges in Boise\n",
      "Southampton Patient in Critical Condition after Contracting Tuberculosis\n",
      "Manassas Encounters Severe Symptoms of Measles\n"
     ]
    }
   ],
   "source": [
    "np.random.seed(100)\n",
    "test_headlines = np.random.choice(dataset, 10)\n",
    "\n",
    "for test_headline in test_headlines:\n",
    "    print(test_headline)\n",
    "    match = re.search(country_regex, test_headline)\n",
    "    if match:\n",
    "        print(match.group(0), \"\\n\")"
   ]
  },
  {
   "cell_type": "code",
   "execution_count": 19,
   "id": "8b9838e5",
   "metadata": {},
   "outputs": [
    {
     "name": "stdout",
     "output_type": "stream",
     "text": [
      "Mystery Virus Spreads in Recife, Brazil\n",
      "Recife\n",
      "Brazil\n"
     ]
    }
   ],
   "source": [
    "test_headline = dataset[3]\n",
    "print(test_headline)\n",
    "print(re.search(city_regex, test_headline).group(0))\n",
    "print(re.search(country_regex, test_headline).group(0))"
   ]
  },
  {
   "cell_type": "code",
   "execution_count": 20,
   "id": "ead71fa7",
   "metadata": {},
   "outputs": [],
   "source": [
    "def map_city_and_country_in_headline(dataset):\n",
    "    df_headline=[]\n",
    "    for headline in dataset:\n",
    "        city_match = re.search(city_regex, headline)\n",
    "        country_match = re.search(country_regex, headline)\n",
    "        cities = None if not city_match else city_match.group(0)\n",
    "        countries = None if not country_match else country_match.group(0)\n",
    "        df_headline.append(dict(headline=headline, countries=countries, cities=cities))\n",
    "    \n",
    "    return df_headline"
   ]
  },
  {
   "cell_type": "code",
   "execution_count": 21,
   "id": "43b8ccce",
   "metadata": {},
   "outputs": [],
   "source": [
    "map_city_and_country_in_headline_all=map_city_and_country_in_headline(dataset)"
   ]
  },
  {
   "cell_type": "markdown",
   "id": "731528a0",
   "metadata": {},
   "source": [
    "## Saving data as a json format\n"
   ]
  },
  {
   "cell_type": "code",
   "execution_count": 22,
   "id": "847eb807",
   "metadata": {},
   "outputs": [
    {
     "data": {
      "text/plain": [
       "[{'headline': 'Zika Outbreak Hits Miami',\n",
       "  'countries': None,\n",
       "  'cities': 'Miami'},\n",
       " {'headline': 'Could Zika Reach New York City?',\n",
       "  'countries': None,\n",
       "  'cities': 'New York City'},\n",
       " {'headline': 'First Case of Zika in Miami Beach',\n",
       "  'countries': None,\n",
       "  'cities': 'Miami Beach'},\n",
       " {'headline': 'Mystery Virus Spreads in Recife, Brazil',\n",
       "  'countries': 'Brazil',\n",
       "  'cities': 'Recife'},\n",
       " {'headline': 'Dallas man comes down with case of Zika',\n",
       "  'countries': None,\n",
       "  'cities': 'Dallas'},\n",
       " {'headline': 'Trinidad confirms first Zika case',\n",
       "  'countries': None,\n",
       "  'cities': 'Trinidad'},\n",
       " {'headline': 'Zika Concerns are Spreading in Houston',\n",
       "  'countries': None,\n",
       "  'cities': 'Houston'},\n",
       " {'headline': 'Geneve Scientists Battle to Find Cure',\n",
       "  'countries': None,\n",
       "  'cities': 'Geneve'},\n",
       " {'headline': 'The CDC in Atlanta is Growing Worried',\n",
       "  'countries': None,\n",
       "  'cities': 'Atlanta'},\n",
       " {'headline': 'Zika Infested Monkeys in Sao Paulo',\n",
       "  'countries': None,\n",
       "  'cities': 'Sao Paulo'}]"
      ]
     },
     "execution_count": 22,
     "metadata": {},
     "output_type": "execute_result"
    }
   ],
   "source": [
    "import json\n",
    "\n",
    "filename = \"headline_cities_and_countries.json\"\n",
    "with open(filename, \"w\") as fout:\n",
    "    fout.write(json.dumps(map_city_and_country_in_headline_all))\n",
    "\n",
    "# read file\n",
    "with open(\"headline_cities_and_countries.json\", \"r\") as fin:\n",
    "    check_data = json.loads(fin.read())\n",
    "check_data[:10]"
   ]
  },
  {
   "cell_type": "markdown",
   "id": "046dec6a",
   "metadata": {},
   "source": [
    "## Loading data as a DataFrame"
   ]
  },
  {
   "cell_type": "code",
   "execution_count": 23,
   "id": "efe29b82",
   "metadata": {},
   "outputs": [
    {
     "data": {
      "text/html": [
       "<div>\n",
       "<style scoped>\n",
       "    .dataframe tbody tr th:only-of-type {\n",
       "        vertical-align: middle;\n",
       "    }\n",
       "\n",
       "    .dataframe tbody tr th {\n",
       "        vertical-align: top;\n",
       "    }\n",
       "\n",
       "    .dataframe thead th {\n",
       "        text-align: right;\n",
       "    }\n",
       "</style>\n",
       "<table border=\"1\" class=\"dataframe\">\n",
       "  <thead>\n",
       "    <tr style=\"text-align: right;\">\n",
       "      <th></th>\n",
       "      <th>headline</th>\n",
       "      <th>countries</th>\n",
       "      <th>cities</th>\n",
       "    </tr>\n",
       "  </thead>\n",
       "  <tbody>\n",
       "    <tr>\n",
       "      <th>0</th>\n",
       "      <td>Zika Outbreak Hits Miami</td>\n",
       "      <td>None</td>\n",
       "      <td>Miami</td>\n",
       "    </tr>\n",
       "    <tr>\n",
       "      <th>1</th>\n",
       "      <td>Could Zika Reach New York City?</td>\n",
       "      <td>None</td>\n",
       "      <td>New York City</td>\n",
       "    </tr>\n",
       "    <tr>\n",
       "      <th>2</th>\n",
       "      <td>First Case of Zika in Miami Beach</td>\n",
       "      <td>None</td>\n",
       "      <td>Miami Beach</td>\n",
       "    </tr>\n",
       "    <tr>\n",
       "      <th>3</th>\n",
       "      <td>Mystery Virus Spreads in Recife, Brazil</td>\n",
       "      <td>Brazil</td>\n",
       "      <td>Recife</td>\n",
       "    </tr>\n",
       "    <tr>\n",
       "      <th>4</th>\n",
       "      <td>Dallas man comes down with case of Zika</td>\n",
       "      <td>None</td>\n",
       "      <td>Dallas</td>\n",
       "    </tr>\n",
       "    <tr>\n",
       "      <th>5</th>\n",
       "      <td>Trinidad confirms first Zika case</td>\n",
       "      <td>None</td>\n",
       "      <td>Trinidad</td>\n",
       "    </tr>\n",
       "    <tr>\n",
       "      <th>6</th>\n",
       "      <td>Zika Concerns are Spreading in Houston</td>\n",
       "      <td>None</td>\n",
       "      <td>Houston</td>\n",
       "    </tr>\n",
       "    <tr>\n",
       "      <th>7</th>\n",
       "      <td>Geneve Scientists Battle to Find Cure</td>\n",
       "      <td>None</td>\n",
       "      <td>Geneve</td>\n",
       "    </tr>\n",
       "    <tr>\n",
       "      <th>8</th>\n",
       "      <td>The CDC in Atlanta is Growing Worried</td>\n",
       "      <td>None</td>\n",
       "      <td>Atlanta</td>\n",
       "    </tr>\n",
       "    <tr>\n",
       "      <th>9</th>\n",
       "      <td>Zika Infested Monkeys in Sao Paulo</td>\n",
       "      <td>None</td>\n",
       "      <td>Sao Paulo</td>\n",
       "    </tr>\n",
       "  </tbody>\n",
       "</table>\n",
       "</div>"
      ],
      "text/plain": [
       "                                  headline countries         cities\n",
       "0                 Zika Outbreak Hits Miami      None          Miami\n",
       "1          Could Zika Reach New York City?      None  New York City\n",
       "2        First Case of Zika in Miami Beach      None    Miami Beach\n",
       "3  Mystery Virus Spreads in Recife, Brazil    Brazil         Recife\n",
       "4  Dallas man comes down with case of Zika      None         Dallas\n",
       "5        Trinidad confirms first Zika case      None       Trinidad\n",
       "6   Zika Concerns are Spreading in Houston      None        Houston\n",
       "7    Geneve Scientists Battle to Find Cure      None         Geneve\n",
       "8    The CDC in Atlanta is Growing Worried      None        Atlanta\n",
       "9       Zika Infested Monkeys in Sao Paulo      None      Sao Paulo"
      ]
     },
     "execution_count": 23,
     "metadata": {},
     "output_type": "execute_result"
    }
   ],
   "source": [
    "df_headlines=pd.read_json('headline_cities_and_countries.json')\n",
    "df_headlines.head(10)"
   ]
  },
  {
   "cell_type": "code",
   "execution_count": 24,
   "id": "ca80ec36",
   "metadata": {},
   "outputs": [
    {
     "data": {
      "text/html": [
       "<div>\n",
       "<style scoped>\n",
       "    .dataframe tbody tr th:only-of-type {\n",
       "        vertical-align: middle;\n",
       "    }\n",
       "\n",
       "    .dataframe tbody tr th {\n",
       "        vertical-align: top;\n",
       "    }\n",
       "\n",
       "    .dataframe thead th {\n",
       "        text-align: right;\n",
       "    }\n",
       "</style>\n",
       "<table border=\"1\" class=\"dataframe\">\n",
       "  <thead>\n",
       "    <tr style=\"text-align: right;\">\n",
       "      <th></th>\n",
       "      <th>headline</th>\n",
       "      <th>countries</th>\n",
       "      <th>cities</th>\n",
       "    </tr>\n",
       "  </thead>\n",
       "  <tbody>\n",
       "    <tr>\n",
       "      <th>0</th>\n",
       "      <td>Zika Outbreak Hits Miami</td>\n",
       "      <td>NaN</td>\n",
       "      <td>Miami</td>\n",
       "    </tr>\n",
       "    <tr>\n",
       "      <th>1</th>\n",
       "      <td>Could Zika Reach New York City?</td>\n",
       "      <td>NaN</td>\n",
       "      <td>New York City</td>\n",
       "    </tr>\n",
       "    <tr>\n",
       "      <th>2</th>\n",
       "      <td>First Case of Zika in Miami Beach</td>\n",
       "      <td>NaN</td>\n",
       "      <td>Miami Beach</td>\n",
       "    </tr>\n",
       "    <tr>\n",
       "      <th>3</th>\n",
       "      <td>Mystery Virus Spreads in Recife, Brazil</td>\n",
       "      <td>Brazil</td>\n",
       "      <td>Recife</td>\n",
       "    </tr>\n",
       "    <tr>\n",
       "      <th>4</th>\n",
       "      <td>Dallas man comes down with case of Zika</td>\n",
       "      <td>NaN</td>\n",
       "      <td>Dallas</td>\n",
       "    </tr>\n",
       "    <tr>\n",
       "      <th>...</th>\n",
       "      <td>...</td>\n",
       "      <td>...</td>\n",
       "      <td>...</td>\n",
       "    </tr>\n",
       "    <tr>\n",
       "      <th>645</th>\n",
       "      <td>Rumors about Rabies spreading in Jerusalem hav...</td>\n",
       "      <td>NaN</td>\n",
       "      <td>Jerusalem</td>\n",
       "    </tr>\n",
       "    <tr>\n",
       "      <th>646</th>\n",
       "      <td>More Zika patients reported in Indang</td>\n",
       "      <td>NaN</td>\n",
       "      <td>Indang</td>\n",
       "    </tr>\n",
       "    <tr>\n",
       "      <th>647</th>\n",
       "      <td>Suva authorities confirmed the spread of Rotav...</td>\n",
       "      <td>NaN</td>\n",
       "      <td>Suva</td>\n",
       "    </tr>\n",
       "    <tr>\n",
       "      <th>648</th>\n",
       "      <td>More Zika patients reported in Bella Vista</td>\n",
       "      <td>NaN</td>\n",
       "      <td>Bella Vista</td>\n",
       "    </tr>\n",
       "    <tr>\n",
       "      <th>649</th>\n",
       "      <td>Zika Outbreak in Wichita Falls</td>\n",
       "      <td>NaN</td>\n",
       "      <td>Wichita</td>\n",
       "    </tr>\n",
       "  </tbody>\n",
       "</table>\n",
       "<p>650 rows × 3 columns</p>\n",
       "</div>"
      ],
      "text/plain": [
       "                                              headline countries  \\\n",
       "0                             Zika Outbreak Hits Miami       NaN   \n",
       "1                      Could Zika Reach New York City?       NaN   \n",
       "2                    First Case of Zika in Miami Beach       NaN   \n",
       "3              Mystery Virus Spreads in Recife, Brazil    Brazil   \n",
       "4              Dallas man comes down with case of Zika       NaN   \n",
       "..                                                 ...       ...   \n",
       "645  Rumors about Rabies spreading in Jerusalem hav...       NaN   \n",
       "646              More Zika patients reported in Indang       NaN   \n",
       "647  Suva authorities confirmed the spread of Rotav...       NaN   \n",
       "648         More Zika patients reported in Bella Vista       NaN   \n",
       "649                     Zika Outbreak in Wichita Falls       NaN   \n",
       "\n",
       "            cities  \n",
       "0            Miami  \n",
       "1    New York City  \n",
       "2      Miami Beach  \n",
       "3           Recife  \n",
       "4           Dallas  \n",
       "..             ...  \n",
       "645      Jerusalem  \n",
       "646         Indang  \n",
       "647           Suva  \n",
       "648    Bella Vista  \n",
       "649        Wichita  \n",
       "\n",
       "[650 rows x 3 columns]"
      ]
     },
     "execution_count": 24,
     "metadata": {},
     "output_type": "execute_result"
    }
   ],
   "source": [
    "# replace None to NaN\n",
    "df_headlines=df_headlines.replace({None:np.nan})\n",
    "df_headlines"
   ]
  },
  {
   "cell_type": "markdown",
   "id": "1ee469ba",
   "metadata": {},
   "source": [
    "### Add country names using city names"
   ]
  },
  {
   "cell_type": "code",
   "execution_count": 25,
   "id": "0b15cb07",
   "metadata": {},
   "outputs": [
    {
     "name": "stdout",
     "output_type": "stream",
     "text": [
      "                  City                 Iso\n",
      "0                   AD    Andorra la Vella\n",
      "1                   AE  Umm Al Quwain City\n",
      "2  Ras Al Khaimah City                  AE\n",
      "3                   AE          Zayed City\n",
      "4         Khawr Fakkān                  AE\n"
     ]
    },
    {
     "data": {
      "text/plain": [
       "(25286, 2)"
      ]
     },
     "execution_count": 25,
     "metadata": {},
     "output_type": "execute_result"
    }
   ],
   "source": [
    "cities =[{city['name'], city['countrycode']} for city in gc.get_cities().values()]\n",
    "\n",
    "df_cities = pd.DataFrame.from_records(cities,columns=['City','Iso'])\n",
    "print(df_cities.head())\n",
    "df_cities.shape"
   ]
  }
 ],
 "metadata": {
  "kernelspec": {
   "display_name": "Python 3 (ipykernel)",
   "language": "python",
   "name": "python3"
  },
  "language_info": {
   "codemirror_mode": {
    "name": "ipython",
    "version": 3
   },
   "file_extension": ".py",
   "mimetype": "text/x-python",
   "name": "python",
   "nbconvert_exporter": "python",
   "pygments_lexer": "ipython3",
   "version": "3.9.7"
  }
 },
 "nbformat": 4,
 "nbformat_minor": 5
}
